{
 "cells": [
  {
   "cell_type": "code",
   "execution_count": 1,
   "id": "13080a02-3d5d-4fa8-9364-1169aa6ac7cc",
   "metadata": {},
   "outputs": [
    {
     "name": "stdout",
     "output_type": "stream",
     "text": [
      "Collecting numpy\n",
      "  Downloading numpy-2.1.2-cp313-cp313-win_amd64.whl.metadata (59 kB)\n",
      "Downloading numpy-2.1.2-cp313-cp313-win_amd64.whl (12.6 MB)\n",
      "   ---------------------------------------- 0.0/12.6 MB ? eta -:--:--\n",
      "   - -------------------------------------- 0.5/12.6 MB 2.9 MB/s eta 0:00:05\n",
      "   ---- ----------------------------------- 1.3/12.6 MB 3.0 MB/s eta 0:00:04\n",
      "   ----- ---------------------------------- 1.8/12.6 MB 2.9 MB/s eta 0:00:04\n",
      "   ------- -------------------------------- 2.4/12.6 MB 2.8 MB/s eta 0:00:04\n",
      "   --------- ------------------------------ 2.9/12.6 MB 2.8 MB/s eta 0:00:04\n",
      "   ---------- ----------------------------- 3.4/12.6 MB 2.8 MB/s eta 0:00:04\n",
      "   -------------- ------------------------- 4.5/12.6 MB 3.0 MB/s eta 0:00:03\n",
      "   --------------- ------------------------ 5.0/12.6 MB 3.0 MB/s eta 0:00:03\n",
      "   ----------------- ---------------------- 5.5/12.6 MB 3.0 MB/s eta 0:00:03\n",
      "   ------------------- -------------------- 6.0/12.6 MB 2.9 MB/s eta 0:00:03\n",
      "   --------------------- ------------------ 6.8/12.6 MB 3.0 MB/s eta 0:00:02\n",
      "   ----------------------- ---------------- 7.3/12.6 MB 3.0 MB/s eta 0:00:02\n",
      "   ------------------------- -------------- 7.9/12.6 MB 3.0 MB/s eta 0:00:02\n",
      "   --------------------------- ------------ 8.7/12.6 MB 3.0 MB/s eta 0:00:02\n",
      "   ----------------------------- ---------- 9.2/12.6 MB 3.0 MB/s eta 0:00:02\n",
      "   ------------------------------ --------- 9.7/12.6 MB 3.0 MB/s eta 0:00:01\n",
      "   --------------------------------- ------ 10.5/12.6 MB 3.0 MB/s eta 0:00:01\n",
      "   ----------------------------------- ---- 11.0/12.6 MB 3.0 MB/s eta 0:00:01\n",
      "   ------------------------------------- -- 11.8/12.6 MB 3.0 MB/s eta 0:00:01\n",
      "   ---------------------------------------- 12.6/12.6 MB 3.0 MB/s eta 0:00:00\n",
      "Installing collected packages: numpy\n",
      "Successfully installed numpy-2.1.2\n",
      "Note: you may need to restart the kernel to use updated packages.\n"
     ]
    }
   ],
   "source": [
    "pip install numpy\n"
   ]
  },
  {
   "cell_type": "code",
   "execution_count": null,
   "id": "fad77fce-5778-4775-bc56-15461523c150",
   "metadata": {},
   "outputs": [],
   "source": []
  }
 ],
 "metadata": {
  "kernelspec": {
   "display_name": "Python 3 (ipykernel)",
   "language": "python",
   "name": "python3"
  },
  "language_info": {
   "codemirror_mode": {
    "name": "ipython",
    "version": 3
   },
   "file_extension": ".py",
   "mimetype": "text/x-python",
   "name": "python",
   "nbconvert_exporter": "python",
   "pygments_lexer": "ipython3",
   "version": "3.13.0"
  }
 },
 "nbformat": 4,
 "nbformat_minor": 5
}
