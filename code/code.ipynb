{
 "cells": [
  {
   "cell_type": "markdown",
   "id": "980cf3dd-4497-401a-b3ed-69c4927d966d",
   "metadata": {},
   "source": [
    "# Book Recommendation System"
   ]
  },
  {
   "cell_type": "markdown",
   "id": "b98b555b-a7d1-4f6b-b5ca-0fd00e74df56",
   "metadata": {},
   "source": [
    "#### import libraries"
   ]
  },
  {
   "cell_type": "code",
   "execution_count": 6,
   "id": "44629510-ed71-48ce-af59-6cde804408b5",
   "metadata": {},
   "outputs": [],
   "source": [
    "import numpy as np\n",
    "import pandas as pd\n",
    "import matplotlib.pyplot as plt\n",
    "import seaborn as sns\n",
    "import warnings\n",
    "warnings.filterwarnings(action='ignore')\n",
    "import codecs"
   ]
  },
  {
   "cell_type": "markdown",
   "id": "5771d2e3-4c68-48c4-b7ca-e659b015f865",
   "metadata": {},
   "source": [
    "## Load the data-sets"
   ]
  },
  {
   "cell_type": "markdown",
   "id": "e1dc215f-fda9-451a-ac04-6a6c4370c55b",
   "metadata": {},
   "source": [
    "## importing Dataset"
   ]
  },
  {
   "cell_type": "code",
   "execution_count": 7,
   "id": "a455b086-162e-40a8-bc22-1c60c95bdd05",
   "metadata": {},
   "outputs": [],
   "source": [
    "users=pd.read_csv('BX-Users.csv',sep=\";\",on_bad_lines = \"skip\", encoding='latin-1')\n",
    "books = pd.read_csv('BX_Books.csv',sep=\";\",on_bad_lines = \"skip\", encoding='latin-1')\n",
    "rating=pd.read_csv('BX-Book-Ratings.csv',sep=\";\",on_bad_lines = \"skip\", encoding='latin-1')"
   ]
  },
  {
   "cell_type": "code",
   "execution_count": null,
   "id": "b75e08c2-acff-45be-9e3a-e33f398d2479",
   "metadata": {},
   "outputs": [],
   "source": []
  }
 ],
 "metadata": {
  "kernelspec": {
   "display_name": "Python 3 (ipykernel)",
   "language": "python",
   "name": "python3"
  },
  "language_info": {
   "codemirror_mode": {
    "name": "ipython",
    "version": 3
   },
   "file_extension": ".py",
   "mimetype": "text/x-python",
   "name": "python",
   "nbconvert_exporter": "python",
   "pygments_lexer": "ipython3",
   "version": "3.12.5"
  }
 },
 "nbformat": 4,
 "nbformat_minor": 5
}
