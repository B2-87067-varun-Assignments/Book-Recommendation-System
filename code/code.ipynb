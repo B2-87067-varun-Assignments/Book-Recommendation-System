{
 "cells": [
  {
   "cell_type": "markdown",
   "id": "980cf3dd-4497-401a-b3ed-69c4927d966d",
   "metadata": {},
   "source": [
    "# Book Recommendation System"
   ]
  },
  {
   "cell_type": "markdown",
   "id": "b98b555b-a7d1-4f6b-b5ca-0fd00e74df56",
   "metadata": {},
   "source": [
    "#### import libraries"
   ]
  },
  {
   "cell_type": "code",
   "execution_count": 1,
   "id": "44629510-ed71-48ce-af59-6cde804408b5",
   "metadata": {},
   "outputs": [],
   "source": [
    "import numpy as np\n",
    "import pandas as pd\n",
    "import matplotlib.pyplot as plt\n",
    "import seaborn as sns\n",
    "import warnings\n",
    "warnings.filterwarnings(action='ignore')\n",
    "import codecs"
   ]
  },
  {
   "cell_type": "markdown",
   "id": "5771d2e3-4c68-48c4-b7ca-e659b015f865",
   "metadata": {},
   "source": [
    "## Load the data-sets"
   ]
  },
  {
   "cell_type": "code",
   "execution_count": 2,
   "id": "7bedc80d-ab2f-4bb0-9446-9cc60a3c8fad",
   "metadata": {},
   "outputs": [],
   "source": [
    "#### BX_Books.csv\n",
    "books = pd.read_csv('BX_Books.csv',sep=';',encoding='latin-1')"
   ]
  },
  {
   "cell_type": "code",
   "execution_count": 3,
   "id": "9afbb44d-9cce-49c7-972c-821123d71777",
   "metadata": {},
   "outputs": [
    {
     "data": {
      "text/html": [
       "<div>\n",
       "<style scoped>\n",
       "    .dataframe tbody tr th:only-of-type {\n",
       "        vertical-align: middle;\n",
       "    }\n",
       "\n",
       "    .dataframe tbody tr th {\n",
       "        vertical-align: top;\n",
       "    }\n",
       "\n",
       "    .dataframe thead th {\n",
       "        text-align: right;\n",
       "    }\n",
       "</style>\n",
       "<table border=\"1\" class=\"dataframe\">\n",
       "  <thead>\n",
       "    <tr style=\"text-align: right;\">\n",
       "      <th></th>\n",
       "      <th>ISBN</th>\n",
       "      <th>Book-Title</th>\n",
       "      <th>Book-Author</th>\n",
       "      <th>Year-Of-Publication</th>\n",
       "      <th>Publisher</th>\n",
       "      <th>Image-URL-S</th>\n",
       "      <th>Image-URL-M</th>\n",
       "      <th>Image-URL-L</th>\n",
       "    </tr>\n",
       "  </thead>\n",
       "  <tbody>\n",
       "    <tr>\n",
       "      <th>0</th>\n",
       "      <td>0195153448</td>\n",
       "      <td>Classical Mythology</td>\n",
       "      <td>Mark P. O. Morford</td>\n",
       "      <td>2002</td>\n",
       "      <td>Oxford University Press</td>\n",
       "      <td>http://images.amazon.com/images/P/0195153448.0...</td>\n",
       "      <td>http://images.amazon.com/images/P/0195153448.0...</td>\n",
       "      <td>http://images.amazon.com/images/P/0195153448.0...</td>\n",
       "    </tr>\n",
       "    <tr>\n",
       "      <th>1</th>\n",
       "      <td>0002005018</td>\n",
       "      <td>Clara Callan</td>\n",
       "      <td>Richard Bruce Wright</td>\n",
       "      <td>2001</td>\n",
       "      <td>HarperFlamingo Canada</td>\n",
       "      <td>http://images.amazon.com/images/P/0002005018.0...</td>\n",
       "      <td>http://images.amazon.com/images/P/0002005018.0...</td>\n",
       "      <td>http://images.amazon.com/images/P/0002005018.0...</td>\n",
       "    </tr>\n",
       "    <tr>\n",
       "      <th>2</th>\n",
       "      <td>0060973129</td>\n",
       "      <td>Decision in Normandy</td>\n",
       "      <td>Carlo D'Este</td>\n",
       "      <td>1991</td>\n",
       "      <td>HarperPerennial</td>\n",
       "      <td>http://images.amazon.com/images/P/0060973129.0...</td>\n",
       "      <td>http://images.amazon.com/images/P/0060973129.0...</td>\n",
       "      <td>http://images.amazon.com/images/P/0060973129.0...</td>\n",
       "    </tr>\n",
       "    <tr>\n",
       "      <th>3</th>\n",
       "      <td>0374157065</td>\n",
       "      <td>Flu: The Story of the Great Influenza Pandemic...</td>\n",
       "      <td>Gina Bari Kolata</td>\n",
       "      <td>1999</td>\n",
       "      <td>Farrar Straus Giroux</td>\n",
       "      <td>http://images.amazon.com/images/P/0374157065.0...</td>\n",
       "      <td>http://images.amazon.com/images/P/0374157065.0...</td>\n",
       "      <td>http://images.amazon.com/images/P/0374157065.0...</td>\n",
       "    </tr>\n",
       "    <tr>\n",
       "      <th>4</th>\n",
       "      <td>0393045218</td>\n",
       "      <td>The Mummies of Urumchi</td>\n",
       "      <td>E. J. W. Barber</td>\n",
       "      <td>1999</td>\n",
       "      <td>W. W. Norton &amp; Company</td>\n",
       "      <td>http://images.amazon.com/images/P/0393045218.0...</td>\n",
       "      <td>http://images.amazon.com/images/P/0393045218.0...</td>\n",
       "      <td>http://images.amazon.com/images/P/0393045218.0...</td>\n",
       "    </tr>\n",
       "  </tbody>\n",
       "</table>\n",
       "</div>"
      ],
      "text/plain": [
       "         ISBN                                         Book-Title  \\\n",
       "0  0195153448                                Classical Mythology   \n",
       "1  0002005018                                       Clara Callan   \n",
       "2  0060973129                               Decision in Normandy   \n",
       "3  0374157065  Flu: The Story of the Great Influenza Pandemic...   \n",
       "4  0393045218                             The Mummies of Urumchi   \n",
       "\n",
       "            Book-Author  Year-Of-Publication                Publisher  \\\n",
       "0    Mark P. O. Morford                 2002  Oxford University Press   \n",
       "1  Richard Bruce Wright                 2001    HarperFlamingo Canada   \n",
       "2          Carlo D'Este                 1991          HarperPerennial   \n",
       "3      Gina Bari Kolata                 1999     Farrar Straus Giroux   \n",
       "4       E. J. W. Barber                 1999   W. W. Norton & Company   \n",
       "\n",
       "                                         Image-URL-S  \\\n",
       "0  http://images.amazon.com/images/P/0195153448.0...   \n",
       "1  http://images.amazon.com/images/P/0002005018.0...   \n",
       "2  http://images.amazon.com/images/P/0060973129.0...   \n",
       "3  http://images.amazon.com/images/P/0374157065.0...   \n",
       "4  http://images.amazon.com/images/P/0393045218.0...   \n",
       "\n",
       "                                         Image-URL-M  \\\n",
       "0  http://images.amazon.com/images/P/0195153448.0...   \n",
       "1  http://images.amazon.com/images/P/0002005018.0...   \n",
       "2  http://images.amazon.com/images/P/0060973129.0...   \n",
       "3  http://images.amazon.com/images/P/0374157065.0...   \n",
       "4  http://images.amazon.com/images/P/0393045218.0...   \n",
       "\n",
       "                                         Image-URL-L  \n",
       "0  http://images.amazon.com/images/P/0195153448.0...  \n",
       "1  http://images.amazon.com/images/P/0002005018.0...  \n",
       "2  http://images.amazon.com/images/P/0060973129.0...  \n",
       "3  http://images.amazon.com/images/P/0374157065.0...  \n",
       "4  http://images.amazon.com/images/P/0393045218.0...  "
      ]
     },
     "execution_count": 3,
     "metadata": {},
     "output_type": "execute_result"
    }
   ],
   "source": [
    "books.head()"
   ]
  },
  {
   "cell_type": "code",
   "execution_count": 4,
   "id": "5c932747-f850-4fdf-bbb0-647ffe78a06a",
   "metadata": {},
   "outputs": [],
   "source": [
    "#### BX-Book-Ratings.csv\n",
    "book_ratings = pd.read_csv('BX-Book-Ratings.csv',sep=';',encoding='latin-1')"
   ]
  },
  {
   "cell_type": "code",
   "execution_count": 5,
   "id": "70249b70-c013-4eb8-a874-3b2ac4dd5837",
   "metadata": {},
   "outputs": [
    {
     "data": {
      "text/html": [
       "<div>\n",
       "<style scoped>\n",
       "    .dataframe tbody tr th:only-of-type {\n",
       "        vertical-align: middle;\n",
       "    }\n",
       "\n",
       "    .dataframe tbody tr th {\n",
       "        vertical-align: top;\n",
       "    }\n",
       "\n",
       "    .dataframe thead th {\n",
       "        text-align: right;\n",
       "    }\n",
       "</style>\n",
       "<table border=\"1\" class=\"dataframe\">\n",
       "  <thead>\n",
       "    <tr style=\"text-align: right;\">\n",
       "      <th></th>\n",
       "      <th>User-ID</th>\n",
       "      <th>ISBN</th>\n",
       "      <th>Book-Rating</th>\n",
       "    </tr>\n",
       "  </thead>\n",
       "  <tbody>\n",
       "    <tr>\n",
       "      <th>0</th>\n",
       "      <td>276725</td>\n",
       "      <td>034545104X</td>\n",
       "      <td>0</td>\n",
       "    </tr>\n",
       "    <tr>\n",
       "      <th>1</th>\n",
       "      <td>276726</td>\n",
       "      <td>0155061224</td>\n",
       "      <td>5</td>\n",
       "    </tr>\n",
       "    <tr>\n",
       "      <th>2</th>\n",
       "      <td>276727</td>\n",
       "      <td>0446520802</td>\n",
       "      <td>0</td>\n",
       "    </tr>\n",
       "    <tr>\n",
       "      <th>3</th>\n",
       "      <td>276729</td>\n",
       "      <td>052165615X</td>\n",
       "      <td>3</td>\n",
       "    </tr>\n",
       "    <tr>\n",
       "      <th>4</th>\n",
       "      <td>276729</td>\n",
       "      <td>0521795028</td>\n",
       "      <td>6</td>\n",
       "    </tr>\n",
       "  </tbody>\n",
       "</table>\n",
       "</div>"
      ],
      "text/plain": [
       "   User-ID        ISBN  Book-Rating\n",
       "0   276725  034545104X            0\n",
       "1   276726  0155061224            5\n",
       "2   276727  0446520802            0\n",
       "3   276729  052165615X            3\n",
       "4   276729  0521795028            6"
      ]
     },
     "execution_count": 5,
     "metadata": {},
     "output_type": "execute_result"
    }
   ],
   "source": [
    "book_ratings.head()"
   ]
  },
  {
   "cell_type": "code",
   "execution_count": 6,
   "id": "fdfa1877-4e8e-431e-8d78-0916e3c0c697",
   "metadata": {},
   "outputs": [],
   "source": [
    "#### BX-Users.csv\n",
    "users = pd.read_csv('BX-Users.csv',sep=';',encoding='latin-1')"
   ]
  },
  {
   "cell_type": "code",
   "execution_count": 7,
   "id": "19b39d45-0e70-4340-9f88-1527aded0130",
   "metadata": {},
   "outputs": [
    {
     "data": {
      "text/html": [
       "<div>\n",
       "<style scoped>\n",
       "    .dataframe tbody tr th:only-of-type {\n",
       "        vertical-align: middle;\n",
       "    }\n",
       "\n",
       "    .dataframe tbody tr th {\n",
       "        vertical-align: top;\n",
       "    }\n",
       "\n",
       "    .dataframe thead th {\n",
       "        text-align: right;\n",
       "    }\n",
       "</style>\n",
       "<table border=\"1\" class=\"dataframe\">\n",
       "  <thead>\n",
       "    <tr style=\"text-align: right;\">\n",
       "      <th></th>\n",
       "      <th>User-ID</th>\n",
       "      <th>Location</th>\n",
       "      <th>Age</th>\n",
       "    </tr>\n",
       "  </thead>\n",
       "  <tbody>\n",
       "    <tr>\n",
       "      <th>0</th>\n",
       "      <td>1</td>\n",
       "      <td>nyc, new york, usa</td>\n",
       "      <td>NaN</td>\n",
       "    </tr>\n",
       "    <tr>\n",
       "      <th>1</th>\n",
       "      <td>2</td>\n",
       "      <td>stockton, california, usa</td>\n",
       "      <td>18.0</td>\n",
       "    </tr>\n",
       "    <tr>\n",
       "      <th>2</th>\n",
       "      <td>3</td>\n",
       "      <td>moscow, yukon territory, russia</td>\n",
       "      <td>NaN</td>\n",
       "    </tr>\n",
       "    <tr>\n",
       "      <th>3</th>\n",
       "      <td>4</td>\n",
       "      <td>porto, v.n.gaia, portugal</td>\n",
       "      <td>17.0</td>\n",
       "    </tr>\n",
       "    <tr>\n",
       "      <th>4</th>\n",
       "      <td>5</td>\n",
       "      <td>farnborough, hants, united kingdom</td>\n",
       "      <td>NaN</td>\n",
       "    </tr>\n",
       "  </tbody>\n",
       "</table>\n",
       "</div>"
      ],
      "text/plain": [
       "   User-ID                            Location   Age\n",
       "0        1                  nyc, new york, usa   NaN\n",
       "1        2           stockton, california, usa  18.0\n",
       "2        3     moscow, yukon territory, russia   NaN\n",
       "3        4           porto, v.n.gaia, portugal  17.0\n",
       "4        5  farnborough, hants, united kingdom   NaN"
      ]
     },
     "execution_count": 7,
     "metadata": {},
     "output_type": "execute_result"
    }
   ],
   "source": [
    "users.head()"
   ]
  },
  {
   "cell_type": "markdown",
   "id": "3322eeea-f607-49e0-8836-9106d84087cd",
   "metadata": {},
   "source": [
    "## Merging the data-sets"
   ]
  },
  {
   "cell_type": "code",
   "execution_count": 8,
   "id": "2a051a2a-a446-4949-af1b-89bce5ca70c7",
   "metadata": {},
   "outputs": [],
   "source": [
    "new_user = pd.merge(users,book_ratings,on='User-ID')"
   ]
  },
  {
   "cell_type": "code",
   "execution_count": 9,
   "id": "01237c5a-9a9f-498e-b669-6f19c826881f",
   "metadata": {},
   "outputs": [],
   "source": [
    "merged_data_set = pd.merge(books,new_user,on='ISBN')"
   ]
  },
  {
   "cell_type": "code",
   "execution_count": 10,
   "id": "3627bbcd-ce8e-4f73-91a3-faaae55dd1f9",
   "metadata": {},
   "outputs": [
    {
     "data": {
      "text/html": [
       "<div>\n",
       "<style scoped>\n",
       "    .dataframe tbody tr th:only-of-type {\n",
       "        vertical-align: middle;\n",
       "    }\n",
       "\n",
       "    .dataframe tbody tr th {\n",
       "        vertical-align: top;\n",
       "    }\n",
       "\n",
       "    .dataframe thead th {\n",
       "        text-align: right;\n",
       "    }\n",
       "</style>\n",
       "<table border=\"1\" class=\"dataframe\">\n",
       "  <thead>\n",
       "    <tr style=\"text-align: right;\">\n",
       "      <th></th>\n",
       "      <th>ISBN</th>\n",
       "      <th>Book-Title</th>\n",
       "      <th>Book-Author</th>\n",
       "      <th>Year-Of-Publication</th>\n",
       "      <th>Publisher</th>\n",
       "      <th>Image-URL-S</th>\n",
       "      <th>Image-URL-M</th>\n",
       "      <th>Image-URL-L</th>\n",
       "      <th>User-ID</th>\n",
       "      <th>Location</th>\n",
       "      <th>Age</th>\n",
       "      <th>Book-Rating</th>\n",
       "    </tr>\n",
       "  </thead>\n",
       "  <tbody>\n",
       "    <tr>\n",
       "      <th>0</th>\n",
       "      <td>0195153448</td>\n",
       "      <td>Classical Mythology</td>\n",
       "      <td>Mark P. O. Morford</td>\n",
       "      <td>2002</td>\n",
       "      <td>Oxford University Press</td>\n",
       "      <td>http://images.amazon.com/images/P/0195153448.0...</td>\n",
       "      <td>http://images.amazon.com/images/P/0195153448.0...</td>\n",
       "      <td>http://images.amazon.com/images/P/0195153448.0...</td>\n",
       "      <td>2</td>\n",
       "      <td>stockton, california, usa</td>\n",
       "      <td>18.0</td>\n",
       "      <td>0</td>\n",
       "    </tr>\n",
       "    <tr>\n",
       "      <th>1</th>\n",
       "      <td>0002005018</td>\n",
       "      <td>Clara Callan</td>\n",
       "      <td>Richard Bruce Wright</td>\n",
       "      <td>2001</td>\n",
       "      <td>HarperFlamingo Canada</td>\n",
       "      <td>http://images.amazon.com/images/P/0002005018.0...</td>\n",
       "      <td>http://images.amazon.com/images/P/0002005018.0...</td>\n",
       "      <td>http://images.amazon.com/images/P/0002005018.0...</td>\n",
       "      <td>8</td>\n",
       "      <td>timmins, ontario, canada</td>\n",
       "      <td>NaN</td>\n",
       "      <td>5</td>\n",
       "    </tr>\n",
       "    <tr>\n",
       "      <th>2</th>\n",
       "      <td>0002005018</td>\n",
       "      <td>Clara Callan</td>\n",
       "      <td>Richard Bruce Wright</td>\n",
       "      <td>2001</td>\n",
       "      <td>HarperFlamingo Canada</td>\n",
       "      <td>http://images.amazon.com/images/P/0002005018.0...</td>\n",
       "      <td>http://images.amazon.com/images/P/0002005018.0...</td>\n",
       "      <td>http://images.amazon.com/images/P/0002005018.0...</td>\n",
       "      <td>11400</td>\n",
       "      <td>ottawa, ontario, canada</td>\n",
       "      <td>49.0</td>\n",
       "      <td>0</td>\n",
       "    </tr>\n",
       "    <tr>\n",
       "      <th>3</th>\n",
       "      <td>0002005018</td>\n",
       "      <td>Clara Callan</td>\n",
       "      <td>Richard Bruce Wright</td>\n",
       "      <td>2001</td>\n",
       "      <td>HarperFlamingo Canada</td>\n",
       "      <td>http://images.amazon.com/images/P/0002005018.0...</td>\n",
       "      <td>http://images.amazon.com/images/P/0002005018.0...</td>\n",
       "      <td>http://images.amazon.com/images/P/0002005018.0...</td>\n",
       "      <td>11676</td>\n",
       "      <td>n/a, n/a, n/a</td>\n",
       "      <td>NaN</td>\n",
       "      <td>8</td>\n",
       "    </tr>\n",
       "    <tr>\n",
       "      <th>4</th>\n",
       "      <td>0002005018</td>\n",
       "      <td>Clara Callan</td>\n",
       "      <td>Richard Bruce Wright</td>\n",
       "      <td>2001</td>\n",
       "      <td>HarperFlamingo Canada</td>\n",
       "      <td>http://images.amazon.com/images/P/0002005018.0...</td>\n",
       "      <td>http://images.amazon.com/images/P/0002005018.0...</td>\n",
       "      <td>http://images.amazon.com/images/P/0002005018.0...</td>\n",
       "      <td>41385</td>\n",
       "      <td>sudbury, ontario, canada</td>\n",
       "      <td>NaN</td>\n",
       "      <td>0</td>\n",
       "    </tr>\n",
       "  </tbody>\n",
       "</table>\n",
       "</div>"
      ],
      "text/plain": [
       "         ISBN           Book-Title           Book-Author  Year-Of-Publication  \\\n",
       "0  0195153448  Classical Mythology    Mark P. O. Morford                 2002   \n",
       "1  0002005018         Clara Callan  Richard Bruce Wright                 2001   \n",
       "2  0002005018         Clara Callan  Richard Bruce Wright                 2001   \n",
       "3  0002005018         Clara Callan  Richard Bruce Wright                 2001   \n",
       "4  0002005018         Clara Callan  Richard Bruce Wright                 2001   \n",
       "\n",
       "                 Publisher                                        Image-URL-S  \\\n",
       "0  Oxford University Press  http://images.amazon.com/images/P/0195153448.0...   \n",
       "1    HarperFlamingo Canada  http://images.amazon.com/images/P/0002005018.0...   \n",
       "2    HarperFlamingo Canada  http://images.amazon.com/images/P/0002005018.0...   \n",
       "3    HarperFlamingo Canada  http://images.amazon.com/images/P/0002005018.0...   \n",
       "4    HarperFlamingo Canada  http://images.amazon.com/images/P/0002005018.0...   \n",
       "\n",
       "                                         Image-URL-M  \\\n",
       "0  http://images.amazon.com/images/P/0195153448.0...   \n",
       "1  http://images.amazon.com/images/P/0002005018.0...   \n",
       "2  http://images.amazon.com/images/P/0002005018.0...   \n",
       "3  http://images.amazon.com/images/P/0002005018.0...   \n",
       "4  http://images.amazon.com/images/P/0002005018.0...   \n",
       "\n",
       "                                         Image-URL-L  User-ID  \\\n",
       "0  http://images.amazon.com/images/P/0195153448.0...        2   \n",
       "1  http://images.amazon.com/images/P/0002005018.0...        8   \n",
       "2  http://images.amazon.com/images/P/0002005018.0...    11400   \n",
       "3  http://images.amazon.com/images/P/0002005018.0...    11676   \n",
       "4  http://images.amazon.com/images/P/0002005018.0...    41385   \n",
       "\n",
       "                    Location   Age  Book-Rating  \n",
       "0  stockton, california, usa  18.0            0  \n",
       "1   timmins, ontario, canada   NaN            5  \n",
       "2    ottawa, ontario, canada  49.0            0  \n",
       "3              n/a, n/a, n/a   NaN            8  \n",
       "4   sudbury, ontario, canada   NaN            0  "
      ]
     },
     "execution_count": 10,
     "metadata": {},
     "output_type": "execute_result"
    }
   ],
   "source": [
    "merged_data_set.head()"
   ]
  },
  {
   "cell_type": "markdown",
   "id": "67289985-839b-4b52-8952-35048f91ce8e",
   "metadata": {},
   "source": [
    "## EDA"
   ]
  },
  {
   "cell_type": "code",
   "execution_count": 11,
   "id": "8f7d3f81-05c6-42dd-aa98-299d22eb03ea",
   "metadata": {},
   "outputs": [
    {
     "data": {
      "text/plain": [
       "(1031175, 12)"
      ]
     },
     "execution_count": 11,
     "metadata": {},
     "output_type": "execute_result"
    }
   ],
   "source": [
    "merged_data_set.shape"
   ]
  },
  {
   "cell_type": "code",
   "execution_count": 12,
   "id": "608be827-9603-4f2f-b312-79e581242f94",
   "metadata": {},
   "outputs": [
    {
     "name": "stdout",
     "output_type": "stream",
     "text": [
      "<class 'pandas.core.frame.DataFrame'>\n",
      "RangeIndex: 1031175 entries, 0 to 1031174\n",
      "Data columns (total 12 columns):\n",
      " #   Column               Non-Null Count    Dtype  \n",
      "---  ------               --------------    -----  \n",
      " 0   ISBN                 1031175 non-null  object \n",
      " 1   Book-Title           1031175 non-null  object \n",
      " 2   Book-Author          1031173 non-null  object \n",
      " 3   Year-Of-Publication  1031175 non-null  int64  \n",
      " 4   Publisher            1031173 non-null  object \n",
      " 5   Image-URL-S          1031175 non-null  object \n",
      " 6   Image-URL-M          1031175 non-null  object \n",
      " 7   Image-URL-L          1031175 non-null  object \n",
      " 8   User-ID              1031175 non-null  int64  \n",
      " 9   Location             1031175 non-null  object \n",
      " 10  Age                  753330 non-null   float64\n",
      " 11  Book-Rating          1031175 non-null  int64  \n",
      "dtypes: float64(1), int64(3), object(8)\n",
      "memory usage: 94.4+ MB\n"
     ]
    }
   ],
   "source": [
    "merged_data_set.info()"
   ]
  },
  {
   "cell_type": "code",
   "execution_count": 13,
   "id": "d2ac9865-199b-46d8-90cb-39f095e9734f",
   "metadata": {},
   "outputs": [
    {
     "data": {
      "text/html": [
       "<div>\n",
       "<style scoped>\n",
       "    .dataframe tbody tr th:only-of-type {\n",
       "        vertical-align: middle;\n",
       "    }\n",
       "\n",
       "    .dataframe tbody tr th {\n",
       "        vertical-align: top;\n",
       "    }\n",
       "\n",
       "    .dataframe thead th {\n",
       "        text-align: right;\n",
       "    }\n",
       "</style>\n",
       "<table border=\"1\" class=\"dataframe\">\n",
       "  <thead>\n",
       "    <tr style=\"text-align: right;\">\n",
       "      <th></th>\n",
       "      <th>Year-Of-Publication</th>\n",
       "      <th>User-ID</th>\n",
       "      <th>Age</th>\n",
       "      <th>Book-Rating</th>\n",
       "    </tr>\n",
       "  </thead>\n",
       "  <tbody>\n",
       "    <tr>\n",
       "      <th>count</th>\n",
       "      <td>1.031175e+06</td>\n",
       "      <td>1.031175e+06</td>\n",
       "      <td>753330.000000</td>\n",
       "      <td>1.031175e+06</td>\n",
       "    </tr>\n",
       "    <tr>\n",
       "      <th>mean</th>\n",
       "      <td>1.968194e+03</td>\n",
       "      <td>1.405944e+05</td>\n",
       "      <td>37.397719</td>\n",
       "      <td>2.839022e+00</td>\n",
       "    </tr>\n",
       "    <tr>\n",
       "      <th>std</th>\n",
       "      <td>2.311048e+02</td>\n",
       "      <td>8.052444e+04</td>\n",
       "      <td>14.098189</td>\n",
       "      <td>3.854149e+00</td>\n",
       "    </tr>\n",
       "    <tr>\n",
       "      <th>min</th>\n",
       "      <td>0.000000e+00</td>\n",
       "      <td>2.000000e+00</td>\n",
       "      <td>0.000000</td>\n",
       "      <td>0.000000e+00</td>\n",
       "    </tr>\n",
       "    <tr>\n",
       "      <th>25%</th>\n",
       "      <td>1.992000e+03</td>\n",
       "      <td>7.041500e+04</td>\n",
       "      <td>28.000000</td>\n",
       "      <td>0.000000e+00</td>\n",
       "    </tr>\n",
       "    <tr>\n",
       "      <th>50%</th>\n",
       "      <td>1.997000e+03</td>\n",
       "      <td>1.412100e+05</td>\n",
       "      <td>35.000000</td>\n",
       "      <td>0.000000e+00</td>\n",
       "    </tr>\n",
       "    <tr>\n",
       "      <th>75%</th>\n",
       "      <td>2.001000e+03</td>\n",
       "      <td>2.114260e+05</td>\n",
       "      <td>45.000000</td>\n",
       "      <td>7.000000e+00</td>\n",
       "    </tr>\n",
       "    <tr>\n",
       "      <th>max</th>\n",
       "      <td>2.050000e+03</td>\n",
       "      <td>2.788540e+05</td>\n",
       "      <td>244.000000</td>\n",
       "      <td>1.000000e+01</td>\n",
       "    </tr>\n",
       "  </tbody>\n",
       "</table>\n",
       "</div>"
      ],
      "text/plain": [
       "       Year-Of-Publication       User-ID            Age   Book-Rating\n",
       "count         1.031175e+06  1.031175e+06  753330.000000  1.031175e+06\n",
       "mean          1.968194e+03  1.405944e+05      37.397719  2.839022e+00\n",
       "std           2.311048e+02  8.052444e+04      14.098189  3.854149e+00\n",
       "min           0.000000e+00  2.000000e+00       0.000000  0.000000e+00\n",
       "25%           1.992000e+03  7.041500e+04      28.000000  0.000000e+00\n",
       "50%           1.997000e+03  1.412100e+05      35.000000  0.000000e+00\n",
       "75%           2.001000e+03  2.114260e+05      45.000000  7.000000e+00\n",
       "max           2.050000e+03  2.788540e+05     244.000000  1.000000e+01"
      ]
     },
     "execution_count": 13,
     "metadata": {},
     "output_type": "execute_result"
    }
   ],
   "source": [
    "merged_data_set.describe()"
   ]
  },
  {
   "cell_type": "markdown",
   "id": "4edfc5a1-53b3-461e-87b4-bc4838dc143c",
   "metadata": {},
   "source": [
    "## Checking for NA values"
   ]
  },
  {
   "cell_type": "code",
   "execution_count": 14,
   "id": "7c482c13-e60f-4e9e-90e4-f25bab8e391c",
   "metadata": {},
   "outputs": [
    {
     "data": {
      "text/plain": [
       "ISBN                        0\n",
       "Book-Title                  0\n",
       "Book-Author                 2\n",
       "Year-Of-Publication         0\n",
       "Publisher                   2\n",
       "Image-URL-S                 0\n",
       "Image-URL-M                 0\n",
       "Image-URL-L                 0\n",
       "User-ID                     0\n",
       "Location                    0\n",
       "Age                    277845\n",
       "Book-Rating                 0\n",
       "dtype: int64"
      ]
     },
     "execution_count": 14,
     "metadata": {},
     "output_type": "execute_result"
    }
   ],
   "source": [
    "merged_data_set.isna().sum()"
   ]
  },
  {
   "cell_type": "markdown",
   "id": "48f13064-0252-48bb-8f3b-3f1fbd5b934d",
   "metadata": {},
   "source": [
    "## Dropping NA values"
   ]
  },
  {
   "cell_type": "code",
   "execution_count": 15,
   "id": "3ef33df5-ff65-44fd-a606-aa3a47d57c03",
   "metadata": {},
   "outputs": [],
   "source": [
    "merged_data_set.dropna(inplace=True)"
   ]
  },
  {
   "cell_type": "code",
   "execution_count": 16,
   "id": "c498a441-d299-4cdc-a4f0-78ed4fe941dc",
   "metadata": {},
   "outputs": [
    {
     "data": {
      "text/html": [
       "<div>\n",
       "<style scoped>\n",
       "    .dataframe tbody tr th:only-of-type {\n",
       "        vertical-align: middle;\n",
       "    }\n",
       "\n",
       "    .dataframe tbody tr th {\n",
       "        vertical-align: top;\n",
       "    }\n",
       "\n",
       "    .dataframe thead th {\n",
       "        text-align: right;\n",
       "    }\n",
       "</style>\n",
       "<table border=\"1\" class=\"dataframe\">\n",
       "  <thead>\n",
       "    <tr style=\"text-align: right;\">\n",
       "      <th></th>\n",
       "      <th>ISBN</th>\n",
       "      <th>Book-Title</th>\n",
       "      <th>Book-Author</th>\n",
       "      <th>Year-Of-Publication</th>\n",
       "      <th>Publisher</th>\n",
       "      <th>Image-URL-S</th>\n",
       "      <th>Image-URL-M</th>\n",
       "      <th>Image-URL-L</th>\n",
       "      <th>User-ID</th>\n",
       "      <th>Location</th>\n",
       "      <th>Age</th>\n",
       "      <th>Book-Rating</th>\n",
       "    </tr>\n",
       "  </thead>\n",
       "  <tbody>\n",
       "    <tr>\n",
       "      <th>0</th>\n",
       "      <td>0195153448</td>\n",
       "      <td>Classical Mythology</td>\n",
       "      <td>Mark P. O. Morford</td>\n",
       "      <td>2002</td>\n",
       "      <td>Oxford University Press</td>\n",
       "      <td>http://images.amazon.com/images/P/0195153448.0...</td>\n",
       "      <td>http://images.amazon.com/images/P/0195153448.0...</td>\n",
       "      <td>http://images.amazon.com/images/P/0195153448.0...</td>\n",
       "      <td>2</td>\n",
       "      <td>stockton, california, usa</td>\n",
       "      <td>18.0</td>\n",
       "      <td>0</td>\n",
       "    </tr>\n",
       "    <tr>\n",
       "      <th>2</th>\n",
       "      <td>0002005018</td>\n",
       "      <td>Clara Callan</td>\n",
       "      <td>Richard Bruce Wright</td>\n",
       "      <td>2001</td>\n",
       "      <td>HarperFlamingo Canada</td>\n",
       "      <td>http://images.amazon.com/images/P/0002005018.0...</td>\n",
       "      <td>http://images.amazon.com/images/P/0002005018.0...</td>\n",
       "      <td>http://images.amazon.com/images/P/0002005018.0...</td>\n",
       "      <td>11400</td>\n",
       "      <td>ottawa, ontario, canada</td>\n",
       "      <td>49.0</td>\n",
       "      <td>0</td>\n",
       "    </tr>\n",
       "    <tr>\n",
       "      <th>5</th>\n",
       "      <td>0002005018</td>\n",
       "      <td>Clara Callan</td>\n",
       "      <td>Richard Bruce Wright</td>\n",
       "      <td>2001</td>\n",
       "      <td>HarperFlamingo Canada</td>\n",
       "      <td>http://images.amazon.com/images/P/0002005018.0...</td>\n",
       "      <td>http://images.amazon.com/images/P/0002005018.0...</td>\n",
       "      <td>http://images.amazon.com/images/P/0002005018.0...</td>\n",
       "      <td>67544</td>\n",
       "      <td>toronto, ontario, canada</td>\n",
       "      <td>30.0</td>\n",
       "      <td>8</td>\n",
       "    </tr>\n",
       "    <tr>\n",
       "      <th>6</th>\n",
       "      <td>0002005018</td>\n",
       "      <td>Clara Callan</td>\n",
       "      <td>Richard Bruce Wright</td>\n",
       "      <td>2001</td>\n",
       "      <td>HarperFlamingo Canada</td>\n",
       "      <td>http://images.amazon.com/images/P/0002005018.0...</td>\n",
       "      <td>http://images.amazon.com/images/P/0002005018.0...</td>\n",
       "      <td>http://images.amazon.com/images/P/0002005018.0...</td>\n",
       "      <td>85526</td>\n",
       "      <td>victoria, british columbia, canada</td>\n",
       "      <td>36.0</td>\n",
       "      <td>0</td>\n",
       "    </tr>\n",
       "    <tr>\n",
       "      <th>7</th>\n",
       "      <td>0002005018</td>\n",
       "      <td>Clara Callan</td>\n",
       "      <td>Richard Bruce Wright</td>\n",
       "      <td>2001</td>\n",
       "      <td>HarperFlamingo Canada</td>\n",
       "      <td>http://images.amazon.com/images/P/0002005018.0...</td>\n",
       "      <td>http://images.amazon.com/images/P/0002005018.0...</td>\n",
       "      <td>http://images.amazon.com/images/P/0002005018.0...</td>\n",
       "      <td>96054</td>\n",
       "      <td>ottawa, ontario, canada</td>\n",
       "      <td>29.0</td>\n",
       "      <td>0</td>\n",
       "    </tr>\n",
       "  </tbody>\n",
       "</table>\n",
       "</div>"
      ],
      "text/plain": [
       "         ISBN           Book-Title           Book-Author  Year-Of-Publication  \\\n",
       "0  0195153448  Classical Mythology    Mark P. O. Morford                 2002   \n",
       "2  0002005018         Clara Callan  Richard Bruce Wright                 2001   \n",
       "5  0002005018         Clara Callan  Richard Bruce Wright                 2001   \n",
       "6  0002005018         Clara Callan  Richard Bruce Wright                 2001   \n",
       "7  0002005018         Clara Callan  Richard Bruce Wright                 2001   \n",
       "\n",
       "                 Publisher                                        Image-URL-S  \\\n",
       "0  Oxford University Press  http://images.amazon.com/images/P/0195153448.0...   \n",
       "2    HarperFlamingo Canada  http://images.amazon.com/images/P/0002005018.0...   \n",
       "5    HarperFlamingo Canada  http://images.amazon.com/images/P/0002005018.0...   \n",
       "6    HarperFlamingo Canada  http://images.amazon.com/images/P/0002005018.0...   \n",
       "7    HarperFlamingo Canada  http://images.amazon.com/images/P/0002005018.0...   \n",
       "\n",
       "                                         Image-URL-M  \\\n",
       "0  http://images.amazon.com/images/P/0195153448.0...   \n",
       "2  http://images.amazon.com/images/P/0002005018.0...   \n",
       "5  http://images.amazon.com/images/P/0002005018.0...   \n",
       "6  http://images.amazon.com/images/P/0002005018.0...   \n",
       "7  http://images.amazon.com/images/P/0002005018.0...   \n",
       "\n",
       "                                         Image-URL-L  User-ID  \\\n",
       "0  http://images.amazon.com/images/P/0195153448.0...        2   \n",
       "2  http://images.amazon.com/images/P/0002005018.0...    11400   \n",
       "5  http://images.amazon.com/images/P/0002005018.0...    67544   \n",
       "6  http://images.amazon.com/images/P/0002005018.0...    85526   \n",
       "7  http://images.amazon.com/images/P/0002005018.0...    96054   \n",
       "\n",
       "                             Location   Age  Book-Rating  \n",
       "0           stockton, california, usa  18.0            0  \n",
       "2             ottawa, ontario, canada  49.0            0  \n",
       "5            toronto, ontario, canada  30.0            8  \n",
       "6  victoria, british columbia, canada  36.0            0  \n",
       "7             ottawa, ontario, canada  29.0            0  "
      ]
     },
     "execution_count": 16,
     "metadata": {},
     "output_type": "execute_result"
    }
   ],
   "source": [
    "merged_data_set.head()"
   ]
  },
  {
   "cell_type": "code",
   "execution_count": 17,
   "id": "83ad57ab-3faa-4644-8f07-6a0d8fab4b46",
   "metadata": {},
   "outputs": [],
   "source": [
    "merged_data_set.dropna(inplace=True)"
   ]
  },
  {
   "cell_type": "markdown",
   "id": "6d0c5718-8d6c-4bc4-b8b8-3dccc2d6dfc8",
   "metadata": {},
   "source": [
    "## Again Checking for NA values"
   ]
  },
  {
   "cell_type": "code",
   "execution_count": 18,
   "id": "d0eabcde-b6ad-4d44-b595-28ee26e0796e",
   "metadata": {},
   "outputs": [
    {
     "data": {
      "text/plain": [
       "ISBN                   0\n",
       "Book-Title             0\n",
       "Book-Author            0\n",
       "Year-Of-Publication    0\n",
       "Publisher              0\n",
       "Image-URL-S            0\n",
       "Image-URL-M            0\n",
       "Image-URL-L            0\n",
       "User-ID                0\n",
       "Location               0\n",
       "Age                    0\n",
       "Book-Rating            0\n",
       "dtype: int64"
      ]
     },
     "execution_count": 18,
     "metadata": {},
     "output_type": "execute_result"
    }
   ],
   "source": [
    "merged_data_set.isna().sum()"
   ]
  },
  {
   "cell_type": "markdown",
   "id": "e0e8f59c-101b-497c-a4d3-c8d70e0728f9",
   "metadata": {},
   "source": [
    "## Splitting the Location column"
   ]
  },
  {
   "cell_type": "code",
   "execution_count": 19,
   "id": "37dcf492-7819-4d00-9219-e0183e5c51b1",
   "metadata": {},
   "outputs": [],
   "source": [
    "location = merged_data_set.Location.str.split(', ',n=2,expand=True)"
   ]
  },
  {
   "cell_type": "code",
   "execution_count": 20,
   "id": "b8ac7d68-7590-43a0-9b1e-27b6b1ba56de",
   "metadata": {},
   "outputs": [],
   "source": [
    "merged_data_set['City'] = location[0]\n",
    "merged_data_set['State'] = location[1]\n",
    "merged_data_set['Country'] = location[2]"
   ]
  },
  {
   "cell_type": "code",
   "execution_count": 21,
   "id": "e7525732-e20c-40e6-a23c-ac095486dba7",
   "metadata": {},
   "outputs": [
    {
     "data": {
      "text/html": [
       "<div>\n",
       "<style scoped>\n",
       "    .dataframe tbody tr th:only-of-type {\n",
       "        vertical-align: middle;\n",
       "    }\n",
       "\n",
       "    .dataframe tbody tr th {\n",
       "        vertical-align: top;\n",
       "    }\n",
       "\n",
       "    .dataframe thead th {\n",
       "        text-align: right;\n",
       "    }\n",
       "</style>\n",
       "<table border=\"1\" class=\"dataframe\">\n",
       "  <thead>\n",
       "    <tr style=\"text-align: right;\">\n",
       "      <th></th>\n",
       "      <th>ISBN</th>\n",
       "      <th>Book-Title</th>\n",
       "      <th>Book-Author</th>\n",
       "      <th>Year-Of-Publication</th>\n",
       "      <th>Publisher</th>\n",
       "      <th>Image-URL-S</th>\n",
       "      <th>Image-URL-M</th>\n",
       "      <th>Image-URL-L</th>\n",
       "      <th>User-ID</th>\n",
       "      <th>Location</th>\n",
       "      <th>Age</th>\n",
       "      <th>Book-Rating</th>\n",
       "      <th>City</th>\n",
       "      <th>State</th>\n",
       "      <th>Country</th>\n",
       "    </tr>\n",
       "  </thead>\n",
       "  <tbody>\n",
       "    <tr>\n",
       "      <th>0</th>\n",
       "      <td>0195153448</td>\n",
       "      <td>Classical Mythology</td>\n",
       "      <td>Mark P. O. Morford</td>\n",
       "      <td>2002</td>\n",
       "      <td>Oxford University Press</td>\n",
       "      <td>http://images.amazon.com/images/P/0195153448.0...</td>\n",
       "      <td>http://images.amazon.com/images/P/0195153448.0...</td>\n",
       "      <td>http://images.amazon.com/images/P/0195153448.0...</td>\n",
       "      <td>2</td>\n",
       "      <td>stockton, california, usa</td>\n",
       "      <td>18.0</td>\n",
       "      <td>0</td>\n",
       "      <td>stockton</td>\n",
       "      <td>california</td>\n",
       "      <td>usa</td>\n",
       "    </tr>\n",
       "    <tr>\n",
       "      <th>2</th>\n",
       "      <td>0002005018</td>\n",
       "      <td>Clara Callan</td>\n",
       "      <td>Richard Bruce Wright</td>\n",
       "      <td>2001</td>\n",
       "      <td>HarperFlamingo Canada</td>\n",
       "      <td>http://images.amazon.com/images/P/0002005018.0...</td>\n",
       "      <td>http://images.amazon.com/images/P/0002005018.0...</td>\n",
       "      <td>http://images.amazon.com/images/P/0002005018.0...</td>\n",
       "      <td>11400</td>\n",
       "      <td>ottawa, ontario, canada</td>\n",
       "      <td>49.0</td>\n",
       "      <td>0</td>\n",
       "      <td>ottawa</td>\n",
       "      <td>ontario</td>\n",
       "      <td>canada</td>\n",
       "    </tr>\n",
       "    <tr>\n",
       "      <th>5</th>\n",
       "      <td>0002005018</td>\n",
       "      <td>Clara Callan</td>\n",
       "      <td>Richard Bruce Wright</td>\n",
       "      <td>2001</td>\n",
       "      <td>HarperFlamingo Canada</td>\n",
       "      <td>http://images.amazon.com/images/P/0002005018.0...</td>\n",
       "      <td>http://images.amazon.com/images/P/0002005018.0...</td>\n",
       "      <td>http://images.amazon.com/images/P/0002005018.0...</td>\n",
       "      <td>67544</td>\n",
       "      <td>toronto, ontario, canada</td>\n",
       "      <td>30.0</td>\n",
       "      <td>8</td>\n",
       "      <td>toronto</td>\n",
       "      <td>ontario</td>\n",
       "      <td>canada</td>\n",
       "    </tr>\n",
       "    <tr>\n",
       "      <th>6</th>\n",
       "      <td>0002005018</td>\n",
       "      <td>Clara Callan</td>\n",
       "      <td>Richard Bruce Wright</td>\n",
       "      <td>2001</td>\n",
       "      <td>HarperFlamingo Canada</td>\n",
       "      <td>http://images.amazon.com/images/P/0002005018.0...</td>\n",
       "      <td>http://images.amazon.com/images/P/0002005018.0...</td>\n",
       "      <td>http://images.amazon.com/images/P/0002005018.0...</td>\n",
       "      <td>85526</td>\n",
       "      <td>victoria, british columbia, canada</td>\n",
       "      <td>36.0</td>\n",
       "      <td>0</td>\n",
       "      <td>victoria</td>\n",
       "      <td>british columbia</td>\n",
       "      <td>canada</td>\n",
       "    </tr>\n",
       "    <tr>\n",
       "      <th>7</th>\n",
       "      <td>0002005018</td>\n",
       "      <td>Clara Callan</td>\n",
       "      <td>Richard Bruce Wright</td>\n",
       "      <td>2001</td>\n",
       "      <td>HarperFlamingo Canada</td>\n",
       "      <td>http://images.amazon.com/images/P/0002005018.0...</td>\n",
       "      <td>http://images.amazon.com/images/P/0002005018.0...</td>\n",
       "      <td>http://images.amazon.com/images/P/0002005018.0...</td>\n",
       "      <td>96054</td>\n",
       "      <td>ottawa, ontario, canada</td>\n",
       "      <td>29.0</td>\n",
       "      <td>0</td>\n",
       "      <td>ottawa</td>\n",
       "      <td>ontario</td>\n",
       "      <td>canada</td>\n",
       "    </tr>\n",
       "  </tbody>\n",
       "</table>\n",
       "</div>"
      ],
      "text/plain": [
       "         ISBN           Book-Title           Book-Author  Year-Of-Publication  \\\n",
       "0  0195153448  Classical Mythology    Mark P. O. Morford                 2002   \n",
       "2  0002005018         Clara Callan  Richard Bruce Wright                 2001   \n",
       "5  0002005018         Clara Callan  Richard Bruce Wright                 2001   \n",
       "6  0002005018         Clara Callan  Richard Bruce Wright                 2001   \n",
       "7  0002005018         Clara Callan  Richard Bruce Wright                 2001   \n",
       "\n",
       "                 Publisher                                        Image-URL-S  \\\n",
       "0  Oxford University Press  http://images.amazon.com/images/P/0195153448.0...   \n",
       "2    HarperFlamingo Canada  http://images.amazon.com/images/P/0002005018.0...   \n",
       "5    HarperFlamingo Canada  http://images.amazon.com/images/P/0002005018.0...   \n",
       "6    HarperFlamingo Canada  http://images.amazon.com/images/P/0002005018.0...   \n",
       "7    HarperFlamingo Canada  http://images.amazon.com/images/P/0002005018.0...   \n",
       "\n",
       "                                         Image-URL-M  \\\n",
       "0  http://images.amazon.com/images/P/0195153448.0...   \n",
       "2  http://images.amazon.com/images/P/0002005018.0...   \n",
       "5  http://images.amazon.com/images/P/0002005018.0...   \n",
       "6  http://images.amazon.com/images/P/0002005018.0...   \n",
       "7  http://images.amazon.com/images/P/0002005018.0...   \n",
       "\n",
       "                                         Image-URL-L  User-ID  \\\n",
       "0  http://images.amazon.com/images/P/0195153448.0...        2   \n",
       "2  http://images.amazon.com/images/P/0002005018.0...    11400   \n",
       "5  http://images.amazon.com/images/P/0002005018.0...    67544   \n",
       "6  http://images.amazon.com/images/P/0002005018.0...    85526   \n",
       "7  http://images.amazon.com/images/P/0002005018.0...    96054   \n",
       "\n",
       "                             Location   Age  Book-Rating      City  \\\n",
       "0           stockton, california, usa  18.0            0  stockton   \n",
       "2             ottawa, ontario, canada  49.0            0    ottawa   \n",
       "5            toronto, ontario, canada  30.0            8   toronto   \n",
       "6  victoria, british columbia, canada  36.0            0  victoria   \n",
       "7             ottawa, ontario, canada  29.0            0    ottawa   \n",
       "\n",
       "              State Country  \n",
       "0        california     usa  \n",
       "2           ontario  canada  \n",
       "5           ontario  canada  \n",
       "6  british columbia  canada  \n",
       "7           ontario  canada  "
      ]
     },
     "execution_count": 21,
     "metadata": {},
     "output_type": "execute_result"
    }
   ],
   "source": [
    "merged_data_set.head()"
   ]
  },
  {
   "cell_type": "code",
   "execution_count": 22,
   "id": "35d7641c-c20e-420c-b75d-724c4d7f20e5",
   "metadata": {},
   "outputs": [
    {
     "data": {
      "text/plain": [
       "ISBN                       0\n",
       "Book-Title                 0\n",
       "Book-Author                0\n",
       "Year-Of-Publication        0\n",
       "Publisher                  0\n",
       "Image-URL-S                0\n",
       "Image-URL-M                0\n",
       "Image-URL-L                0\n",
       "User-ID                    0\n",
       "Location                   0\n",
       "Age                        0\n",
       "Book-Rating                0\n",
       "City                       0\n",
       "State                      0\n",
       "Country                10635\n",
       "dtype: int64"
      ]
     },
     "execution_count": 22,
     "metadata": {},
     "output_type": "execute_result"
    }
   ],
   "source": [
    "merged_data_set.isna().sum()"
   ]
  },
  {
   "cell_type": "markdown",
   "id": "0bb00af7-ab24-4898-8314-577fe9129b2c",
   "metadata": {},
   "source": [
    "## Dropping NA values"
   ]
  },
  {
   "cell_type": "code",
   "execution_count": 23,
   "id": "337667f0-5365-4498-b46c-6bef59078ed9",
   "metadata": {},
   "outputs": [],
   "source": [
    "merged_data_set.dropna(inplace=True)"
   ]
  },
  {
   "cell_type": "code",
   "execution_count": 24,
   "id": "84ba06eb-3030-4f35-9cd8-f1025f7c61e9",
   "metadata": {},
   "outputs": [
    {
     "data": {
      "text/plain": [
       "ISBN                   0\n",
       "Book-Title             0\n",
       "Book-Author            0\n",
       "Year-Of-Publication    0\n",
       "Publisher              0\n",
       "Image-URL-S            0\n",
       "Image-URL-M            0\n",
       "Image-URL-L            0\n",
       "User-ID                0\n",
       "Location               0\n",
       "Age                    0\n",
       "Book-Rating            0\n",
       "City                   0\n",
       "State                  0\n",
       "Country                0\n",
       "dtype: int64"
      ]
     },
     "execution_count": 24,
     "metadata": {},
     "output_type": "execute_result"
    }
   ],
   "source": [
    "merged_data_set.isna().sum()"
   ]
  },
  {
   "cell_type": "markdown",
   "id": "72fce893-99d9-4d31-bf76-d1ce01d4a798",
   "metadata": {},
   "source": [
    "## Dropping least informative column"
   ]
  },
  {
   "cell_type": "code",
   "execution_count": 25,
   "id": "0f3e9b72-c1af-4742-ba3b-4a70ed609f2d",
   "metadata": {},
   "outputs": [],
   "source": [
    "merged_data_set.drop(['Image-URL-S','Image-URL-M','Image-URL-L','User-ID','ISBN'],axis=1,inplace=True)"
   ]
  },
  {
   "cell_type": "code",
   "execution_count": 26,
   "id": "793e7075-d86e-4d1f-ae9a-91852520cb9b",
   "metadata": {},
   "outputs": [
    {
     "data": {
      "text/html": [
       "<div>\n",
       "<style scoped>\n",
       "    .dataframe tbody tr th:only-of-type {\n",
       "        vertical-align: middle;\n",
       "    }\n",
       "\n",
       "    .dataframe tbody tr th {\n",
       "        vertical-align: top;\n",
       "    }\n",
       "\n",
       "    .dataframe thead th {\n",
       "        text-align: right;\n",
       "    }\n",
       "</style>\n",
       "<table border=\"1\" class=\"dataframe\">\n",
       "  <thead>\n",
       "    <tr style=\"text-align: right;\">\n",
       "      <th></th>\n",
       "      <th>Book-Title</th>\n",
       "      <th>Book-Author</th>\n",
       "      <th>Year-Of-Publication</th>\n",
       "      <th>Publisher</th>\n",
       "      <th>Location</th>\n",
       "      <th>Age</th>\n",
       "      <th>Book-Rating</th>\n",
       "      <th>City</th>\n",
       "      <th>State</th>\n",
       "      <th>Country</th>\n",
       "    </tr>\n",
       "  </thead>\n",
       "  <tbody>\n",
       "    <tr>\n",
       "      <th>0</th>\n",
       "      <td>Classical Mythology</td>\n",
       "      <td>Mark P. O. Morford</td>\n",
       "      <td>2002</td>\n",
       "      <td>Oxford University Press</td>\n",
       "      <td>stockton, california, usa</td>\n",
       "      <td>18.0</td>\n",
       "      <td>0</td>\n",
       "      <td>stockton</td>\n",
       "      <td>california</td>\n",
       "      <td>usa</td>\n",
       "    </tr>\n",
       "    <tr>\n",
       "      <th>2</th>\n",
       "      <td>Clara Callan</td>\n",
       "      <td>Richard Bruce Wright</td>\n",
       "      <td>2001</td>\n",
       "      <td>HarperFlamingo Canada</td>\n",
       "      <td>ottawa, ontario, canada</td>\n",
       "      <td>49.0</td>\n",
       "      <td>0</td>\n",
       "      <td>ottawa</td>\n",
       "      <td>ontario</td>\n",
       "      <td>canada</td>\n",
       "    </tr>\n",
       "    <tr>\n",
       "      <th>5</th>\n",
       "      <td>Clara Callan</td>\n",
       "      <td>Richard Bruce Wright</td>\n",
       "      <td>2001</td>\n",
       "      <td>HarperFlamingo Canada</td>\n",
       "      <td>toronto, ontario, canada</td>\n",
       "      <td>30.0</td>\n",
       "      <td>8</td>\n",
       "      <td>toronto</td>\n",
       "      <td>ontario</td>\n",
       "      <td>canada</td>\n",
       "    </tr>\n",
       "    <tr>\n",
       "      <th>6</th>\n",
       "      <td>Clara Callan</td>\n",
       "      <td>Richard Bruce Wright</td>\n",
       "      <td>2001</td>\n",
       "      <td>HarperFlamingo Canada</td>\n",
       "      <td>victoria, british columbia, canada</td>\n",
       "      <td>36.0</td>\n",
       "      <td>0</td>\n",
       "      <td>victoria</td>\n",
       "      <td>british columbia</td>\n",
       "      <td>canada</td>\n",
       "    </tr>\n",
       "    <tr>\n",
       "      <th>7</th>\n",
       "      <td>Clara Callan</td>\n",
       "      <td>Richard Bruce Wright</td>\n",
       "      <td>2001</td>\n",
       "      <td>HarperFlamingo Canada</td>\n",
       "      <td>ottawa, ontario, canada</td>\n",
       "      <td>29.0</td>\n",
       "      <td>0</td>\n",
       "      <td>ottawa</td>\n",
       "      <td>ontario</td>\n",
       "      <td>canada</td>\n",
       "    </tr>\n",
       "  </tbody>\n",
       "</table>\n",
       "</div>"
      ],
      "text/plain": [
       "            Book-Title           Book-Author  Year-Of-Publication  \\\n",
       "0  Classical Mythology    Mark P. O. Morford                 2002   \n",
       "2         Clara Callan  Richard Bruce Wright                 2001   \n",
       "5         Clara Callan  Richard Bruce Wright                 2001   \n",
       "6         Clara Callan  Richard Bruce Wright                 2001   \n",
       "7         Clara Callan  Richard Bruce Wright                 2001   \n",
       "\n",
       "                 Publisher                            Location   Age  \\\n",
       "0  Oxford University Press           stockton, california, usa  18.0   \n",
       "2    HarperFlamingo Canada             ottawa, ontario, canada  49.0   \n",
       "5    HarperFlamingo Canada            toronto, ontario, canada  30.0   \n",
       "6    HarperFlamingo Canada  victoria, british columbia, canada  36.0   \n",
       "7    HarperFlamingo Canada             ottawa, ontario, canada  29.0   \n",
       "\n",
       "   Book-Rating      City             State Country  \n",
       "0            0  stockton        california     usa  \n",
       "2            0    ottawa           ontario  canada  \n",
       "5            8   toronto           ontario  canada  \n",
       "6            0  victoria  british columbia  canada  \n",
       "7            0    ottawa           ontario  canada  "
      ]
     },
     "execution_count": 26,
     "metadata": {},
     "output_type": "execute_result"
    }
   ],
   "source": [
    "merged_data_set.head()"
   ]
  },
  {
   "cell_type": "code",
   "execution_count": 27,
   "id": "856659ee-067b-48fd-addc-035a1e9de7e9",
   "metadata": {},
   "outputs": [
    {
     "name": "stdout",
     "output_type": "stream",
     "text": [
      "<class 'pandas.core.frame.DataFrame'>\n",
      "Index: 742691 entries, 0 to 1031174\n",
      "Data columns (total 10 columns):\n",
      " #   Column               Non-Null Count   Dtype  \n",
      "---  ------               --------------   -----  \n",
      " 0   Book-Title           742691 non-null  object \n",
      " 1   Book-Author          742691 non-null  object \n",
      " 2   Year-Of-Publication  742691 non-null  int64  \n",
      " 3   Publisher            742691 non-null  object \n",
      " 4   Location             742691 non-null  object \n",
      " 5   Age                  742691 non-null  float64\n",
      " 6   Book-Rating          742691 non-null  int64  \n",
      " 7   City                 742691 non-null  object \n",
      " 8   State                742691 non-null  object \n",
      " 9   Country              742691 non-null  object \n",
      "dtypes: float64(1), int64(2), object(7)\n",
      "memory usage: 62.3+ MB\n"
     ]
    }
   ],
   "source": [
    "merged_data_set.info()"
   ]
  },
  {
   "cell_type": "markdown",
   "id": "a4a6afe6-0c4e-4ffe-bcc0-85b235384dd1",
   "metadata": {},
   "source": [
    "## Changing the data type of age column"
   ]
  },
  {
   "cell_type": "code",
   "execution_count": 28,
   "id": "32e10eeb-0b89-4bbf-8593-4db327f217b8",
   "metadata": {},
   "outputs": [],
   "source": [
    "merged_data_set['Age'] = merged_data_set['Age'].astype(int)"
   ]
  },
  {
   "cell_type": "code",
   "execution_count": 29,
   "id": "68e9134d-a86d-4512-8294-d17efaeeba6c",
   "metadata": {},
   "outputs": [
    {
     "name": "stdout",
     "output_type": "stream",
     "text": [
      "<class 'pandas.core.frame.DataFrame'>\n",
      "Index: 742691 entries, 0 to 1031174\n",
      "Data columns (total 10 columns):\n",
      " #   Column               Non-Null Count   Dtype \n",
      "---  ------               --------------   ----- \n",
      " 0   Book-Title           742691 non-null  object\n",
      " 1   Book-Author          742691 non-null  object\n",
      " 2   Year-Of-Publication  742691 non-null  int64 \n",
      " 3   Publisher            742691 non-null  object\n",
      " 4   Location             742691 non-null  object\n",
      " 5   Age                  742691 non-null  int64 \n",
      " 6   Book-Rating          742691 non-null  int64 \n",
      " 7   City                 742691 non-null  object\n",
      " 8   State                742691 non-null  object\n",
      " 9   Country              742691 non-null  object\n",
      "dtypes: int64(3), object(7)\n",
      "memory usage: 62.3+ MB\n"
     ]
    }
   ],
   "source": [
    "merged_data_set.info()"
   ]
  },
  {
   "cell_type": "code",
   "execution_count": 36,
   "id": "5feda126-e981-43cb-b502-f3034c3166f2",
   "metadata": {},
   "outputs": [
    {
     "name": "stdout",
     "output_type": "stream",
     "text": [
      "1253\n"
     ]
    }
   ],
   "source": [
    "print(merged_data_set.duplicated().sum())"
   ]
  },
  {
   "cell_type": "code",
   "execution_count": 37,
   "id": "4467e3f7-9b47-47a3-90b4-6f13a7a26c9b",
   "metadata": {},
   "outputs": [],
   "source": [
    "merged_data_set.drop_duplicates(inplace=True)"
   ]
  },
  {
   "cell_type": "code",
   "execution_count": 39,
   "id": "b18dab5d-ab58-4df0-a655-85b949300968",
   "metadata": {},
   "outputs": [
    {
     "name": "stdout",
     "output_type": "stream",
     "text": [
      "0\n"
     ]
    }
   ],
   "source": [
    "print(merged_data_set.duplicated().sum())"
   ]
  },
  {
   "cell_type": "code",
   "execution_count": 40,
   "id": "526e0659-d8a2-4f25-accf-c1543a7f65ae",
   "metadata": {},
   "outputs": [
    {
     "name": "stdout",
     "output_type": "stream",
     "text": [
      "<class 'pandas.core.frame.DataFrame'>\n",
      "Index: 741438 entries, 0 to 1031174\n",
      "Data columns (total 10 columns):\n",
      " #   Column               Non-Null Count   Dtype \n",
      "---  ------               --------------   ----- \n",
      " 0   Book-Title           741438 non-null  object\n",
      " 1   Book-Author          741438 non-null  object\n",
      " 2   Year-Of-Publication  741438 non-null  int64 \n",
      " 3   Publisher            741438 non-null  object\n",
      " 4   Location             741438 non-null  object\n",
      " 5   Age                  741438 non-null  int64 \n",
      " 6   Book-Rating          741438 non-null  int64 \n",
      " 7   City                 741438 non-null  object\n",
      " 8   State                741438 non-null  object\n",
      " 9   Country              741438 non-null  object\n",
      "dtypes: int64(3), object(7)\n",
      "memory usage: 62.2+ MB\n"
     ]
    }
   ],
   "source": [
    "merged_data_set.info()"
   ]
  },
  {
   "cell_type": "markdown",
   "id": "749a7891-80eb-4213-ab07-635fca88a4c8",
   "metadata": {},
   "source": [
    "## Saving the Data-set to a .csv file"
   ]
  },
  {
   "cell_type": "code",
   "execution_count": 41,
   "id": "d40d71ba-a27f-4968-a97e-3b326770bb87",
   "metadata": {},
   "outputs": [],
   "source": [
    "merged_data_set.to_csv('Cleansed_dataset.csv',index=False)"
   ]
  },
  {
   "cell_type": "code",
   "execution_count": null,
   "id": "6a272013-af8d-4549-86fb-bf482170d4f9",
   "metadata": {},
   "outputs": [],
   "source": []
  }
 ],
 "metadata": {
  "kernelspec": {
   "display_name": "Python 3 (ipykernel)",
   "language": "python",
   "name": "python3"
  },
  "language_info": {
   "codemirror_mode": {
    "name": "ipython",
    "version": 3
   },
   "file_extension": ".py",
   "mimetype": "text/x-python",
   "name": "python",
   "nbconvert_exporter": "python",
   "pygments_lexer": "ipython3",
   "version": "3.13.0"
  }
 },
 "nbformat": 4,
 "nbformat_minor": 5
}
